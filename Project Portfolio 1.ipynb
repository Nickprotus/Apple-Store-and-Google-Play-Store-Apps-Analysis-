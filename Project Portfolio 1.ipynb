{
 "cells": [
  {
   "cell_type": "markdown",
   "metadata": {},
   "source": [
    "**Profitable App Profiles for the App Store and Google Play Markets**\n",
    "\n",
    "Revenue for free to download and install apps on Google Play and App Store is mostly influenced by the number of users who use the app. The main source of revenue consists of in-app ads, thus for profitability, more users that see and engage with the ads is required. \n",
    "\n",
    "**Objective:** To analyze data to help developers understand what type of apps are likely to attract more users\n"
   ]
  },
  {
   "cell_type": "code",
   "execution_count": 1,
   "metadata": {},
   "outputs": [],
   "source": [
    "import os"
   ]
  },
  {
   "cell_type": "code",
   "execution_count": 2,
   "metadata": {},
   "outputs": [],
   "source": [
    "os.chdir(r\"C:\\Users\\nicho\\Downloads\")"
   ]
  },
  {
   "cell_type": "code",
   "execution_count": 3,
   "metadata": {},
   "outputs": [
    {
     "name": "stdout",
     "output_type": "stream",
     "text": [
      "my path is  C:\\Users\\nicho\\Downloads\n"
     ]
    }
   ],
   "source": [
    "print(\"my path is \", os.getcwd())"
   ]
  },
  {
   "cell_type": "code",
   "execution_count": 4,
   "metadata": {},
   "outputs": [],
   "source": [
    "from csv import reader\n",
    "opened_file = open('AppleStore.csv', errors='ignore')\n",
    "read_file = reader(opened_file)\n",
    "ios_apps = list(read_file)\n",
    "ios_header = ios_apps[0]\n",
    "ios = ios_apps[1:]"
   ]
  },
  {
   "cell_type": "code",
   "execution_count": 5,
   "metadata": {},
   "outputs": [],
   "source": [
    "opened_file = open('googleplaystore.csv', errors='ignore')\n",
    "read_file = reader(opened_file)\n",
    "android_apps = list(read_file)\n",
    "android_header = android_apps[0]\n",
    "android = android_apps[1:]"
   ]
  },
  {
   "cell_type": "code",
   "execution_count": 6,
   "metadata": {},
   "outputs": [
    {
     "name": "stdout",
     "output_type": "stream",
     "text": [
      "['id', 'track_name', 'size_bytes', 'currency', 'price', 'rating_count_tot', 'rating_count_ver', 'user_rating', 'user_rating_ver', 'ver', 'cont_rating', 'prime_genre', 'sup_devices.num', 'ipadSc_urls.num', 'lang.num', 'vpp_lic']\n",
      "\n",
      "\n",
      "['App', 'Category', 'Rating', 'Reviews', 'Size', 'Installs', 'Type', 'Price', 'Content Rating', 'Genres', 'Last Updated', 'Current Ver', 'Android Ver']\n"
     ]
    }
   ],
   "source": [
    "print(ios_header)\n",
    "print('\\n')\n",
    "print(android_header)"
   ]
  },
  {
   "cell_type": "code",
   "execution_count": 7,
   "metadata": {},
   "outputs": [],
   "source": [
    "def explore_data(dataset,start,end,rows_and_columns=False):\n",
    "    dataset_slice = dataset[start:end]\n",
    "    for row in dataset_slice:\n",
    "        print(row)\n",
    "        print('\\n')\n",
    "    if rows_and_columns:\n",
    "        print('No of rows: ', len(dataset))\n",
    "        print('No of columns: ', len(dataset[0]))\n",
    "              "
   ]
  },
  {
   "cell_type": "markdown",
   "metadata": {},
   "source": [
    "**Cleaning the datasets**\n",
    "Function below checks for any missing data in both the android and ios dataset."
   ]
  },
  {
   "cell_type": "code",
   "execution_count": 8,
   "metadata": {},
   "outputs": [],
   "source": [
    "def missing_data(dataset):\n",
    "    for data in dataset:\n",
    "        if dataset == android:\n",
    "            header_length = len(android_header)\n",
    "        elif dataset == ios:\n",
    "            header_length = len(ios_header)\n",
    "        else:\n",
    "            header_length = len(dataset[0])\n",
    "        \n",
    "        if len(data) != header_length:\n",
    "            print(data)\n",
    "            print('\\n')\n",
    "            print(dataset.index(data))\n",
    "      "
   ]
  },
  {
   "cell_type": "code",
   "execution_count": 9,
   "metadata": {},
   "outputs": [
    {
     "name": "stdout",
     "output_type": "stream",
     "text": [
      "['Life Made WI-Fi Touchscreen Photo Frame', '1.9', '19', '3.0M', '1,000+', 'Free', '0', 'Everyone', '', 'February 11, 2018', '1.0.19', '4.0 and up']\n",
      "\n",
      "\n",
      "10472\n",
      "None\n",
      "None\n"
     ]
    }
   ],
   "source": [
    "print(missing_data(android))\n",
    "print(missing_data(ios))"
   ]
  },
  {
   "cell_type": "code",
   "execution_count": 10,
   "metadata": {},
   "outputs": [
    {
     "name": "stdout",
     "output_type": "stream",
     "text": [
      "['284882215', 'Facebook', '389879808', 'USD', '0.0', '2974676', '212', '3.5', '3.5', '95.0', '4+', 'Social Networking', '37', '1', '29', '1']\n",
      "\n",
      "\n",
      "['389801252', 'Instagram', '113954816', 'USD', '0.0', '2161558', '1289', '4.5', '4.0', '10.23', '12+', 'Photo & Video', '37', '0', '29', '1']\n",
      "\n",
      "\n",
      "No of rows:  7197\n",
      "No of columns:  16\n"
     ]
    }
   ],
   "source": [
    "explore_data(ios,0,2,True)"
   ]
  },
  {
   "cell_type": "markdown",
   "metadata": {},
   "source": [
    "**Deleting the missing rows.**"
   ]
  },
  {
   "cell_type": "code",
   "execution_count": 11,
   "metadata": {},
   "outputs": [],
   "source": [
    "del android[10472]"
   ]
  },
  {
   "cell_type": "code",
   "execution_count": 12,
   "metadata": {},
   "outputs": [
    {
     "name": "stdout",
     "output_type": "stream",
     "text": [
      "['Photo Editor & Candy Camera & Grid & ScrapBook', 'ART_AND_DESIGN', '4.1', '159', '19M', '10,000+', 'Free', '0', 'Everyone', 'Art & Design', 'January 7, 2018', '1.0.0', '4.0.3 and up']\n",
      "\n",
      "\n",
      "['Coloring book moana', 'ART_AND_DESIGN', '3.9', '967', '14M', '500,000+', 'Free', '0', 'Everyone', 'Art & Design;Pretend Play', 'January 15, 2018', '2.0.0', '4.0.3 and up']\n",
      "\n",
      "\n",
      "No of rows:  10840\n",
      "No of columns:  13\n"
     ]
    }
   ],
   "source": [
    "explore_data(android,0,2,True)"
   ]
  },
  {
   "cell_type": "markdown",
   "metadata": {},
   "source": [
    "**Removng duplicates**\n",
    "To remove the duplicates, we employ various techniques and not just random removal. Considering the reeview ciolumn, we can get the much latest data by looking at the number of reviews. The hihger the number of reviews, the more latest the data."
   ]
  },
  {
   "cell_type": "code",
   "execution_count": 13,
   "metadata": {},
   "outputs": [],
   "source": [
    "def duplicates(dataset,index):\n",
    "    dup_apps = []\n",
    "    unique_apps =[]\n",
    "    \n",
    "    for data in dataset:\n",
    "        name= data[index]\n",
    "        if name in unique_apps:\n",
    "            dup_apps.append(name)\n",
    "            \n",
    "        else:\n",
    "            unique_apps.append(name)\n",
    "            \n",
    "    print('Duplicate apps: ', len(dup_apps))\n",
    "    print('Unique apps: ', len(unique_apps))\n",
    "    "
   ]
  },
  {
   "cell_type": "code",
   "execution_count": 14,
   "metadata": {},
   "outputs": [
    {
     "name": "stdout",
     "output_type": "stream",
     "text": [
      "Duplicate apps:  1181\n",
      "Unique apps:  9659\n",
      "None\n",
      "Duplicate apps:  2\n",
      "Unique apps:  7195\n",
      "None\n"
     ]
    }
   ],
   "source": [
    "print(duplicates(android,0))\n",
    "print(duplicates(ios,1))"
   ]
  },
  {
   "cell_type": "code",
   "execution_count": 15,
   "metadata": {},
   "outputs": [],
   "source": [
    "androids_max={}\n",
    "for data in android:\n",
    "    name = data[0]\n",
    "    n_reviews= float(data[3])\n",
    "    \n",
    "    if name in androids_max and  androids_max[name] < n_reviews:\n",
    "        androids_max[name] = n_reviews\n",
    "        \n",
    "    elif name not in androids_max:\n",
    "        androids_max[name] = n_reviews\n",
    "    "
   ]
  },
  {
   "cell_type": "code",
   "execution_count": 16,
   "metadata": {},
   "outputs": [
    {
     "name": "stdout",
     "output_type": "stream",
     "text": [
      "Expected length: 9659\n",
      "Actual length: 9659\n"
     ]
    }
   ],
   "source": [
    "print('Expected length:', len(android) - 1181)\n",
    "print('Actual length:', len(androids_max))"
   ]
  },
  {
   "cell_type": "code",
   "execution_count": 17,
   "metadata": {},
   "outputs": [],
   "source": [
    "android_data=[]\n",
    "added=[]\n",
    "for data in android:\n",
    "    name = data[0]\n",
    "    n_reviews = float(data[3])\n",
    "    \n",
    "    if (androids_max[name] == n_reviews) and (name not in added):\n",
    "        android_data.append(data)\n",
    "        added.append(name)\n",
    "    "
   ]
  },
  {
   "cell_type": "code",
   "execution_count": 18,
   "metadata": {},
   "outputs": [],
   "source": [
    "ios_max = {}\n",
    "for data in ios:\n",
    "    name=data[1]\n",
    "    n_reviews= float(data[5])\n",
    "    \n",
    "    if name in ios_max and ios_max[name] < n_reviews:\n",
    "        ios_max[name] = n_reviews\n",
    "        \n",
    "    elif name not in ios_max:\n",
    "        ios_max[name] = n_reviews\n",
    "    "
   ]
  },
  {
   "cell_type": "code",
   "execution_count": 19,
   "metadata": {},
   "outputs": [],
   "source": [
    "ios_data = []\n",
    "added_ios = []\n",
    "for data in ios:\n",
    "    name= data[1]\n",
    "    n_reviews = float(data[5])\n",
    "    \n",
    "    if (ios_max[name] == n_reviews) and (name not in added_ios):\n",
    "        ios_data.append(data)\n",
    "        added.append(name)\n",
    "        "
   ]
  },
  {
   "cell_type": "code",
   "execution_count": 20,
   "metadata": {},
   "outputs": [
    {
     "name": "stdout",
     "output_type": "stream",
     "text": [
      "['284882215', 'Facebook', '389879808', 'USD', '0.0', '2974676', '212', '3.5', '3.5', '95.0', '4+', 'Social Networking', '37', '1', '29', '1']\n",
      "\n",
      "\n",
      "No of rows:  7195\n",
      "No of columns:  16\n",
      "None\n",
      "['Photo Editor & Candy Camera & Grid & ScrapBook', 'ART_AND_DESIGN', '4.1', '159', '19M', '10,000+', 'Free', '0', 'Everyone', 'Art & Design', 'January 7, 2018', '1.0.0', '4.0.3 and up']\n",
      "\n",
      "\n",
      "No of rows:  9659\n",
      "No of columns:  13\n",
      "None\n"
     ]
    }
   ],
   "source": [
    "print(explore_data(ios_data,0,1,True))\n",
    "print(explore_data(android_data,0,1,True))"
   ]
  },
  {
   "cell_type": "markdown",
   "metadata": {},
   "source": [
    "**We need to filter out non-english apps**"
   ]
  },
  {
   "cell_type": "code",
   "execution_count": 21,
   "metadata": {},
   "outputs": [],
   "source": [
    "def check_english_apps(word):\n",
    "    start = 0\n",
    "    for characters in word:\n",
    "        if ord(characters) > 127:\n",
    "            start += 1\n",
    "            \n",
    "        if start > 3:\n",
    "                return False\n",
    "        \n",
    "    return True"
   ]
  },
  {
   "cell_type": "code",
   "execution_count": 22,
   "metadata": {},
   "outputs": [],
   "source": [
    "android_eng_apps = []\n",
    "for data in android_data:\n",
    "    name = check_english_apps(data[0])\n",
    "    \n",
    "    if name == True:\n",
    "        android_eng_apps.append(data)\n",
    "    "
   ]
  },
  {
   "cell_type": "code",
   "execution_count": 23,
   "metadata": {},
   "outputs": [
    {
     "name": "stdout",
     "output_type": "stream",
     "text": [
      "['Sya9a Maroc - FR', 'FAMILY', '4.5', '38', '53M', '5,000+', 'Free', '0', 'Everyone', 'Education', 'July 25, 2017', '1.48', '4.1 and up']\n",
      "\n",
      "\n",
      "['Fr. Mike Schmitz Audio Teachings', 'FAMILY', '5.0', '4', '3.6M', '100+', 'Free', '0', 'Everyone', 'Education', 'July 6, 2018', '1.0', '4.1 and up']\n",
      "\n",
      "\n",
      "['Parkinson Exercices FR', 'MEDICAL', 'NaN', '3', '9.5M', '1,000+', 'Free', '0', 'Everyone', 'Medical', 'January 20, 2017', '1.0', '2.2 and up']\n",
      "\n",
      "\n",
      "['The SCP Foundation DB fr nn5n', 'BOOKS_AND_REFERENCE', '4.5', '114', 'Varies with device', '1,000+', 'Free', '0', 'Mature 17+', 'Books & Reference', 'January 19, 2015', 'Varies with device', 'Varies with device']\n",
      "\n",
      "\n",
      "No of rows:  9509\n",
      "No of columns:  13\n"
     ]
    }
   ],
   "source": [
    "explore_data(android_eng_apps,-5,-1,True)"
   ]
  },
  {
   "cell_type": "code",
   "execution_count": 24,
   "metadata": {},
   "outputs": [],
   "source": [
    "ios_eng_apps = []\n",
    "for data in ios_data:\n",
    "    name = check_english_apps(data[1])\n",
    "    \n",
    "    if name == True:\n",
    "        ios_eng_apps.append(data)\n",
    "        "
   ]
  },
  {
   "cell_type": "code",
   "execution_count": 25,
   "metadata": {},
   "outputs": [
    {
     "name": "stdout",
     "output_type": "stream",
     "text": [
      "['1070854722', 'Be-be-bears!', '480781312', 'USD', '2.99', '0', '0', '0.0', '0.0', '1.0.2.5', '4+', 'Games', '35', '5', '13', '1']\n",
      "\n",
      "\n",
      "['1169971902', 'Hey Duggee: We Love Animals', '136347648', 'USD', '2.99', '0', '0', '0.0', '0.0', '1.2', '4+', 'Games', '40', '5', '1', '1']\n",
      "\n",
      "\n",
      "['1170406182', 'Shark Boom - Challenge Friends with your Pet', '245415936', 'USD', '0.0', '0', '0', '0.0', '0.0', '1.0.9', '4+', 'Games', '38', '5', '1', '1']\n",
      "\n",
      "\n",
      "['1070052833', 'Go!Go!Cat!', '91468800', 'USD', '0.0', '0', '0', '0.0', '0.0', '1.1.2', '12+', 'Games', '37', '2', '2', '1']\n",
      "\n",
      "\n",
      "No of rows:  6098\n",
      "No of columns:  16\n"
     ]
    }
   ],
   "source": [
    "explore_data(ios_eng_apps,-5,-1,True)"
   ]
  },
  {
   "cell_type": "markdown",
   "metadata": {},
   "source": [
    "**Isolating free apps from the lists of english apps**"
   ]
  },
  {
   "cell_type": "code",
   "execution_count": 26,
   "metadata": {},
   "outputs": [
    {
     "name": "stdout",
     "output_type": "stream",
     "text": [
      "['Photo Editor & Candy Camera & Grid & ScrapBook', 'ART_AND_DESIGN', '4.1', '159', '19M', '10,000+', 'Free', '0', 'Everyone', 'Art & Design', 'January 7, 2018', '1.0.0', '4.0.3 and up']\n",
      "\n",
      "\n",
      "No of rows:  8769\n",
      "No of columns:  13\n",
      "None\n"
     ]
    }
   ],
   "source": [
    "android_free_eng_apps = []\n",
    "for data in android_eng_apps:\n",
    "    price = data[7]\n",
    "    for characters in price:\n",
    "        if '$' in characters:  \n",
    "            price = float(price.translate({ord('$'): None}))\n",
    "        else:\n",
    "            price = float(price)\n",
    "    \n",
    "    if price == 0:\n",
    "        android_free_eng_apps.append(data)\n",
    "\n",
    "print(explore_data(android_free_eng_apps,0,1,True))"
   ]
  },
  {
   "cell_type": "code",
   "execution_count": 27,
   "metadata": {},
   "outputs": [
    {
     "name": "stdout",
     "output_type": "stream",
     "text": [
      "['284882215', 'Facebook', '389879808', 'USD', '0.0', '2974676', '212', '3.5', '3.5', '95.0', '4+', 'Social Networking', '37', '1', '29', '1']\n",
      "\n",
      "\n",
      "No of rows:  3167\n",
      "No of columns:  16\n",
      "None\n"
     ]
    }
   ],
   "source": [
    "ios_free_eng_apps = []\n",
    "for data in ios_eng_apps:\n",
    "    price = data[4]\n",
    "    for characters in price:\n",
    "        if '$' in characters:\n",
    "            price = float(price.translate({ord('$'): None}))\n",
    "        else:\n",
    "            price = float(price)\n",
    "            \n",
    "    if price == 0:\n",
    "        ios_free_eng_apps.append(data)\n",
    "        \n",
    "print(explore_data(ios_free_eng_apps,0,1,True))\n",
    "        "
   ]
  },
  {
   "cell_type": "markdown",
   "metadata": {},
   "source": [
    "**To minimize risks and overhead, the validation strategy for an app idea is comprised of three steps:**\n",
    "\n",
    "**1:** Build a minimal Android version of the app, and add it to Google Play. \n",
    "**2:** If the app has a good response from users, we develop it further. \n",
    "**3:** If the app is profitable after six months, we build an iOS version of the app and add it to the App Store.\n",
    "\n",
    "The end goal is to add the app on both Google Play and the App Store, we need to find app profiles that are successful on both markets.\n"
   ]
  },
  {
   "cell_type": "code",
   "execution_count": 28,
   "metadata": {},
   "outputs": [],
   "source": [
    "def freq_table(dataset,index):\n",
    "    table = {}\n",
    "    total=0\n",
    "    \n",
    "    for data in dataset:\n",
    "        total += 1\n",
    "        name=data[index]\n",
    "        \n",
    "        if name in table:\n",
    "            table[name] += 1\n",
    "        else:\n",
    "            table[name]=1\n",
    "    \n",
    "    table_percentages={}\n",
    "    for data in table:\n",
    "        table_percentages[data] = (table[data]/total)*100\n",
    "        \n",
    "    return table_percentages\n",
    "        "
   ]
  },
  {
   "cell_type": "code",
   "execution_count": 29,
   "metadata": {},
   "outputs": [],
   "source": [
    "def display_table(dataset, index):\n",
    "    table = freq_table(dataset, index)\n",
    "    table_display = []\n",
    "    for key in table:\n",
    "        key_val_as_tuple = (table[key], key)\n",
    "        table_display.append(key_val_as_tuple)\n",
    "\n",
    "    table_sorted = sorted(table_display, reverse = True)\n",
    "    for entry in table_sorted:\n",
    "        print(entry[1], ':', entry[0])"
   ]
  },
  {
   "cell_type": "code",
   "execution_count": 30,
   "metadata": {},
   "outputs": [
    {
     "name": "stdout",
     "output_type": "stream",
     "text": [
      "Games : 58.509630565203665\n",
      "Entertainment : 7.8307546574044835\n",
      "Photo & Video : 5.052099778970635\n",
      "Education : 3.7259235869908434\n",
      "Social Networking : 3.2838648563309127\n",
      "Shopping : 2.5260498894853174\n",
      "Utilities : 2.3997473950110515\n",
      "Sports : 2.178718029681086\n",
      "Music : 2.0524155352068205\n",
      "Health & Fitness : 1.9892642879696874\n",
      "Productivity : 1.7050836754025893\n",
      "Lifestyle : 1.5472055573097567\n",
      "News : 1.3261761919797914\n",
      "Travel : 1.1367224502683928\n",
      "Finance : 1.1051468266498263\n",
      "Weather : 0.8525418377012947\n",
      "Food & Drink : 0.8209662140827282\n",
      "Reference : 0.5367856015156299\n",
      "Business : 0.5367856015156299\n",
      "Book : 0.3789074834227976\n",
      "Navigation : 0.1894537417113988\n",
      "Medical : 0.1894537417113988\n",
      "Catalogs : 0.12630249447426586\n"
     ]
    }
   ],
   "source": [
    "display_table(ios_free_eng_apps,11)"
   ]
  },
  {
   "cell_type": "code",
   "execution_count": 31,
   "metadata": {},
   "outputs": [
    {
     "name": "stdout",
     "output_type": "stream",
     "text": [
      "['id', 'track_name', 'size_bytes', 'currency', 'price', 'rating_count_tot', 'rating_count_ver', 'user_rating', 'user_rating_ver', 'ver', 'cont_rating', 'prime_genre', 'sup_devices.num', 'ipadSc_urls.num', 'lang.num', 'vpp_lic']\n"
     ]
    }
   ],
   "source": [
    "print(ios_header)"
   ]
  },
  {
   "cell_type": "code",
   "execution_count": 32,
   "metadata": {},
   "outputs": [
    {
     "name": "stdout",
     "output_type": "stream",
     "text": [
      "{'Social Networking': 3.2838648563309127, 'Photo & Video': 5.052099778970635, 'Games': 58.509630565203665, 'Music': 2.0524155352068205, 'Reference': 0.5367856015156299, 'Health & Fitness': 1.9892642879696874, 'Weather': 0.8525418377012947, 'Utilities': 2.3997473950110515, 'Travel': 1.1367224502683928, 'Shopping': 2.5260498894853174, 'News': 1.3261761919797914, 'Navigation': 0.1894537417113988, 'Lifestyle': 1.5472055573097567, 'Entertainment': 7.8307546574044835, 'Food & Drink': 0.8209662140827282, 'Sports': 2.178718029681086, 'Book': 0.3789074834227976, 'Finance': 1.1051468266498263, 'Education': 3.7259235869908434, 'Productivity': 1.7050836754025893, 'Business': 0.5367856015156299, 'Catalogs': 0.12630249447426586, 'Medical': 0.1894537417113988}\n"
     ]
    }
   ],
   "source": [
    "unique_genre = freq_table(ios_free_eng_apps,-5)\n",
    "print(unique_genre)"
   ]
  },
  {
   "cell_type": "code",
   "execution_count": 33,
   "metadata": {},
   "outputs": [
    {
     "name": "stdout",
     "output_type": "stream",
     "text": [
      "Social Networking : 72916.54807692308\n",
      "Photo & Video : 28441.54375\n",
      "Games : 23009.927145169993\n",
      "Music : 58205.03076923077\n",
      "Reference : 79350.4705882353\n",
      "Health & Fitness : 24037.634920634922\n",
      "Weather : 54215.2962962963\n",
      "Utilities : 19900.473684210527\n",
      "Travel : 31358.5\n",
      "Shopping : 27816.2\n",
      "News : 21750.071428571428\n",
      "Navigation : 86090.33333333333\n",
      "Lifestyle : 16739.34693877551\n",
      "Entertainment : 14364.774193548386\n",
      "Food & Drink : 33333.92307692308\n",
      "Sports : 23008.898550724636\n",
      "Book : 46384.916666666664\n",
      "Finance : 32367.02857142857\n",
      "Education : 7003.983050847458\n",
      "Productivity : 21799.14814814815\n",
      "Business : 7491.117647058823\n",
      "Catalogs : 4004.0\n",
      "Medical : 612.0\n"
     ]
    }
   ],
   "source": [
    "ratings_per_genre = {}\n",
    "for genre in unique_genre:\n",
    "    total = 0\n",
    "    len_genre = 0\n",
    "    \n",
    "    for data in ios_free_eng_apps:\n",
    "        genre_app = data[-5]\n",
    "        \n",
    "        if genre_app == genre:\n",
    "            rating = float(data[5])\n",
    "            total += rating\n",
    "            len_genre += 1\n",
    "    \n",
    "    avg_ratings = total/len_genre\n",
    "    ratings_per_genre[genre]= avg_ratings\n",
    "    \n",
    "    print(genre, ':', avg_ratings)\n",
    "    \n",
    "    "
   ]
  },
  {
   "cell_type": "code",
   "execution_count": 34,
   "metadata": {},
   "outputs": [],
   "source": [
    "def disp_table(dictionary):\n",
    "    table = dictionary\n",
    "    table_display = []\n",
    "    for key in table:\n",
    "        key_val_as_tuple = (table[key], key)\n",
    "        table_display.append(key_val_as_tuple)\n",
    "\n",
    "    table_sorted = sorted(table_display, reverse = True)\n",
    "    for entry in table_sorted:\n",
    "        print(entry[1], ':', entry[0])"
   ]
  },
  {
   "cell_type": "code",
   "execution_count": 35,
   "metadata": {},
   "outputs": [
    {
     "name": "stdout",
     "output_type": "stream",
     "text": [
      "Navigation : 86090.33333333333\n",
      "Reference : 79350.4705882353\n",
      "Social Networking : 72916.54807692308\n",
      "Music : 58205.03076923077\n",
      "Weather : 54215.2962962963\n",
      "Book : 46384.916666666664\n",
      "Food & Drink : 33333.92307692308\n",
      "Finance : 32367.02857142857\n",
      "Travel : 31358.5\n",
      "Photo & Video : 28441.54375\n",
      "Shopping : 27816.2\n",
      "Health & Fitness : 24037.634920634922\n",
      "Games : 23009.927145169993\n",
      "Sports : 23008.898550724636\n",
      "Productivity : 21799.14814814815\n",
      "News : 21750.071428571428\n",
      "Utilities : 19900.473684210527\n",
      "Lifestyle : 16739.34693877551\n",
      "Entertainment : 14364.774193548386\n",
      "Business : 7491.117647058823\n",
      "Education : 7003.983050847458\n",
      "Catalogs : 4004.0\n",
      "Medical : 612.0\n"
     ]
    }
   ],
   "source": [
    "disp_table(ratings_per_genre)"
   ]
  },
  {
   "cell_type": "markdown",
   "metadata": {},
   "source": [
    "Navigation ios apps have the most users followed by reference apps with medical apps having lowest number of users."
   ]
  },
  {
   "cell_type": "code",
   "execution_count": 36,
   "metadata": {},
   "outputs": [
    {
     "name": "stdout",
     "output_type": "stream",
     "text": [
      "Catalogs : 4.125\n",
      "Productivity : 4.064814814814815\n",
      "Games : 4.060172692930383\n",
      "Shopping : 3.975\n",
      "Business : 3.9705882352941178\n",
      "Music : 3.953846153846154\n",
      "Photo & Video : 3.903125\n",
      "Health & Fitness : 3.888888888888889\n",
      "Reference : 3.8823529411764706\n",
      "Navigation : 3.8333333333333335\n",
      "Education : 3.635593220338983\n",
      "Food & Drink : 3.6346153846153846\n",
      "Social Networking : 3.6009615384615383\n",
      "Book : 3.5833333333333335\n",
      "Utilities : 3.5723684210526314\n",
      "Entertainment : 3.5403225806451615\n",
      "Weather : 3.4814814814814814\n",
      "Finance : 3.4714285714285715\n",
      "Lifestyle : 3.4591836734693877\n",
      "Travel : 3.4444444444444446\n",
      "News : 3.2261904761904763\n",
      "Sports : 3.0652173913043477\n",
      "Medical : 3.0\n",
      "None\n"
     ]
    }
   ],
   "source": [
    "user_ratings_per_genre = {}\n",
    "for genre in unique_genre:\n",
    "    total = 0\n",
    "    len_genre = 0\n",
    "    \n",
    "    for data in ios_free_eng_apps:\n",
    "        genre_app = data[-5]\n",
    "        \n",
    "        if genre_app == genre:\n",
    "            rating = float(data[7])\n",
    "            total += rating\n",
    "            len_genre += 1\n",
    "    \n",
    "    avg_user_rating = total/len_genre\n",
    "    user_ratings_per_genre[genre]= avg_user_rating\n",
    "    \n",
    "print(disp_table(user_ratings_per_genre))"
   ]
  },
  {
   "cell_type": "markdown",
   "metadata": {},
   "source": [
    "Catalog ios apps have the highest user ratings followed by productivity apps with medical and sports app having the leas user rating values  "
   ]
  },
  {
   "cell_type": "code",
   "execution_count": 37,
   "metadata": {},
   "outputs": [
    {
     "name": "stdout",
     "output_type": "stream",
     "text": [
      "1,000,000+ : 15.748660052457522\n",
      "100,000+ : 11.517846960884935\n",
      "10,000,000+ : 10.594138442239707\n",
      "10,000+ : 10.206408940586156\n",
      "1,000+ : 8.370395712167863\n",
      "100+ : 6.944919603147451\n",
      "5,000,000+ : 6.865092941042309\n",
      "500,000+ : 5.553654920743528\n",
      "50,000+ : 4.76679210856426\n",
      "5,000+ : 4.481696886760178\n",
      "10+ : 3.5237769414984603\n",
      "500+ : 3.204470293077888\n",
      "50,000,000+ : 2.3035693921769873\n",
      "100,000,000+ : 2.1325122590945376\n",
      "50+ : 1.9272436993955981\n",
      "5+ : 0.7868628121792679\n",
      "1+ : 0.5131713992473486\n",
      "500,000,000+ : 0.27369141293191923\n",
      "1,000,000,000+ : 0.22807617744326605\n",
      "0+ : 0.045615235488653205\n",
      "0 : 0.011403808872163301\n"
     ]
    }
   ],
   "source": [
    "display_table(android_free_eng_apps,5)"
   ]
  },
  {
   "cell_type": "code",
   "execution_count": 46,
   "metadata": {},
   "outputs": [
    {
     "name": "stdout",
     "output_type": "stream",
     "text": [
      "COMMUNICATION : 38590581.08741259\n",
      "VIDEO_PLAYERS : 24878048.860759493\n",
      "SOCIAL : 23628689.23275862\n",
      "PHOTOGRAPHY : 17840110.40229885\n",
      "PRODUCTIVITY : 16787331.344927534\n",
      "GAME : 15612234.167650532\n",
      "TRAVEL_AND_LOCAL : 14120454.07804878\n",
      "ENTERTAINMENT : 11767380.952380951\n",
      "TOOLS : 10902378.834454913\n",
      "NEWS_AND_MAGAZINES : 9626407.357723577\n",
      "BOOKS_AND_REFERENCE : 8329168.936170213\n",
      "SHOPPING : 7072366.590909091\n",
      "PERSONALIZATION : 5240358.986111111\n",
      "WEATHER : 5212877.101449275\n",
      "HEALTH_AND_FITNESS : 4219697.055350553\n",
      "MAPS_AND_NAVIGATION : 4115374.214876033\n",
      "SPORTS : 3725100.537414966\n",
      "FAMILY : 3709707.689530686\n",
      "ART_AND_DESIGN : 1986335.0877192982\n",
      "FOOD_AND_DRINK : 1951283.8055555555\n",
      "EDUCATION : 1833495.145631068\n",
      "BUSINESS : 1712290.1474201474\n",
      "LIFESTYLE : 1447458.976676385\n",
      "HOUSE_AND_HOME : 1380033.7285714287\n",
      "FINANCE : 1365500.4049079753\n",
      "DATING : 861409.5521472392\n",
      "COMICS : 859042.1568627451\n",
      "AUTO_AND_VEHICLES : 654074.8271604938\n",
      "LIBRARIES_AND_DEMO : 649314.0506329114\n",
      "PARENTING : 552875.1785714285\n",
      "BEAUTY : 513151.88679245283\n",
      "EVENTS : 253542.22222222222\n",
      "MEDICAL : 121161.87781350482\n",
      "None\n"
     ]
    }
   ],
   "source": [
    "android_installs = freq_table(android_free_eng_apps,1)\n",
    "for category in android_installs:\n",
    "    total = 0\n",
    "    len_category = 0\n",
    "    for data in android_free_eng_apps:\n",
    "        category_app = data[1]\n",
    "        \n",
    "        if category_app == category:\n",
    "            n_installs = data[5]\n",
    "            n_installs = n_installs.replace('+','')\n",
    "            n_installs = n_installs.replace(',','')\n",
    "            \n",
    "            total += float(n_installs)\n",
    "            len_category += 1\n",
    "            \n",
    "    avg_android_installs = total/len_category\n",
    "    android_installs[category]= avg_android_installs\n",
    "\n",
    "print(disp_table(android_installs))"
   ]
  },
  {
   "cell_type": "markdown",
   "metadata": {},
   "source": [
    "This data shows that comunnication apps have the most installs however since there are just a few apps in the category with very high number of installs such as whatsApp, Facebook Messenger, Skype, Google Chrome, Gmail, and Hangouts the data is skewed.\n",
    "\n",
    "The video players category, which is the runner-up with 24,727,872 installs is also a victim. The market is dominated by apps like Youtube, Google Play Movies & TV, or MX Player. The pattern is repeated for social apps (where we have giants like Facebook, Instagram, Google+, etc.), photography apps (Google Photos and other popular photo editors), or productivity apps (Microsoft Word, Dropbox, Google Calendar, Evernote, etc.).\n",
    "\n",
    "These niches seem to be dominated by a few giants who are hard to compete against.\n",
    "\n",
    "if we remove the apps with 100m plus installs"
   ]
  },
  {
   "cell_type": "code",
   "execution_count": 52,
   "metadata": {},
   "outputs": [
    {
     "name": "stdout",
     "output_type": "stream",
     "text": [
      "PHOTOGRAPHY : 7670532.29338843\n",
      "GAME : 6240256.451204056\n",
      "ENTERTAINMENT : 6183037.974683545\n",
      "VIDEO_PLAYERS : 5575380.67114094\n",
      "WEATHER : 5212877.101449275\n",
      "SHOPPING : 4664914.948186529\n",
      "COMMUNICATION : 3617398.420849421\n",
      "PRODUCTIVITY : 3379657.318885449\n",
      "TOOLS : 3221943.2408963586\n",
      "SOCIAL : 3113497.2694063927\n",
      "SPORTS : 3065683.4178082193\n",
      "TRAVEL_AND_LOCAL : 2973465.43\n",
      "PERSONALIZATION : 2532940.6714285715\n",
      "MAPS_AND_NAVIGATION : 2503867.899159664\n",
      "FAMILY : 2345591.1286407765\n",
      "HEALTH_AND_FITNESS : 2020586.996282528\n",
      "ART_AND_DESIGN : 1986335.0877192982\n",
      "FOOD_AND_DRINK : 1951283.8055555555\n",
      "EDUCATION : 1833495.145631068\n",
      "NEWS_AND_MAGAZINES : 1514799.2181069958\n",
      "BOOKS_AND_REFERENCE : 1445020.4347826086\n",
      "HOUSE_AND_HOME : 1380033.7285714287\n",
      "BUSINESS : 1226918.7407407407\n",
      "LIFESTYLE : 1159293.6520467836\n",
      "FINANCE : 1062009.6369230768\n",
      "DATING : 861409.5521472392\n",
      "COMICS : 859042.1568627451\n",
      "AUTO_AND_VEHICLES : 654074.8271604938\n",
      "LIBRARIES_AND_DEMO : 649314.0506329114\n",
      "PARENTING : 552875.1785714285\n",
      "BEAUTY : 513151.88679245283\n",
      "EVENTS : 253542.22222222222\n",
      "MEDICAL : 121161.87781350482\n",
      "None\n"
     ]
    }
   ],
   "source": [
    "android_installs = freq_table(android_free_eng_apps,1)\n",
    "for category in android_installs:\n",
    "    total = 0\n",
    "    len_category = 0\n",
    "    for data in android_free_eng_apps:\n",
    "        category_app = data[1]\n",
    "        \n",
    "        if category_app == category:\n",
    "            n_installs = data[5]\n",
    "            n_installs = n_installs.replace('+','')\n",
    "            n_installs = n_installs.replace(',','')\n",
    "            n_installs = float(n_installs)\n",
    "            if n_installs < 100000000:\n",
    "                total += float(n_installs)\n",
    "                len_category += 1\n",
    "            \n",
    "    avg_android_installs = total/len_category\n",
    "    android_installs[category]= avg_android_installs\n",
    "\n",
    "print(disp_table(android_installs))"
   ]
  },
  {
   "cell_type": "code",
   "execution_count": null,
   "metadata": {},
   "outputs": [],
   "source": []
  }
 ],
 "metadata": {
  "kernelspec": {
   "display_name": "Python 3",
   "language": "python",
   "name": "python3"
  },
  "language_info": {
   "codemirror_mode": {
    "name": "ipython",
    "version": 3
   },
   "file_extension": ".py",
   "mimetype": "text/x-python",
   "name": "python",
   "nbconvert_exporter": "python",
   "pygments_lexer": "ipython3",
   "version": "3.7.4"
  }
 },
 "nbformat": 4,
 "nbformat_minor": 2
}
